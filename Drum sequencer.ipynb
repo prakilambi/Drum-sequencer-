{
 "cells": [
  {
   "cell_type": "code",
   "execution_count": 27,
   "metadata": {},
   "outputs": [
    {
     "name": "stderr",
     "output_type": "stream",
     "text": [
      "Exception in Tkinter callback\n",
      "Traceback (most recent call last):\n",
      "  File \"/home/vattghern/anaconda3/lib/python3.7/tkinter/__init__.py\", line 1705, in __call__\n",
      "    return self.func(*args)\n",
      "  File \"<ipython-input-27-f28c697360b5>\", line 15, in <lambda>\n",
      "    btn[x][y] = Button(frame,command= lambda x1=x, y1=y : color_change(x1,y1))\n",
      "TypeError: color_change() missing 1 required positional argument: 'y'\n",
      "Exception in Tkinter callback\n",
      "Traceback (most recent call last):\n",
      "  File \"/home/vattghern/anaconda3/lib/python3.7/tkinter/__init__.py\", line 1705, in __call__\n",
      "    return self.func(*args)\n",
      "  File \"<ipython-input-27-f28c697360b5>\", line 15, in <lambda>\n",
      "    btn[x][y] = Button(frame,command= lambda x1=x, y1=y : color_change(x1,y1))\n",
      "TypeError: color_change() missing 1 required positional argument: 'y'\n"
     ]
    }
   ],
   "source": [
    "from tkinter import *\n",
    "\n",
    "def color_change(self,x,y):\n",
    "    self.btn[x][y].config(bg=\"red\")\n",
    "    print (x,y)\n",
    "\n",
    "\n",
    "root = Tk()\n",
    "frame= Frame(root)\n",
    "frame.grid(row=0,column=0)\n",
    "\n",
    "btn =  [[0 for x in range(4)] for x in range(16)] \n",
    "for x in range(16):\n",
    "    for y in range(4):\n",
    "        btn[x][y] = Button(frame,command= lambda x1=x, y1=y : color_change(x1,y1))\n",
    "        btn[x][y].grid(column=x, row=y)\n",
    "\n",
    "root.mainloop()\n",
    "\n",
    "\n"
   ]
  },
  {
   "cell_type": "code",
   "execution_count": null,
   "metadata": {},
   "outputs": [],
   "source": []
  },
  {
   "cell_type": "code",
   "execution_count": null,
   "metadata": {},
   "outputs": [],
   "source": []
  }
 ],
 "metadata": {
  "kernelspec": {
   "display_name": "Python 3",
   "language": "python",
   "name": "python3"
  },
  "language_info": {
   "codemirror_mode": {
    "name": "ipython",
    "version": 3
   },
   "file_extension": ".py",
   "mimetype": "text/x-python",
   "name": "python",
   "nbconvert_exporter": "python",
   "pygments_lexer": "ipython3",
   "version": "3.7.6"
  }
 },
 "nbformat": 4,
 "nbformat_minor": 2
}
